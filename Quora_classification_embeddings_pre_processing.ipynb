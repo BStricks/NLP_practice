{
  "nbformat": 4,
  "nbformat_minor": 0,
  "metadata": {
    "colab": {
      "name": "Quora_classification_embeddings_pre-processing.ipynb",
      "provenance": [],
      "collapsed_sections": []
    },
    "kernelspec": {
      "name": "python3",
      "display_name": "Python 3"
    },
    "accelerator": "GPU"
  },
  "cells": [
    {
      "cell_type": "markdown",
      "metadata": {
        "id": "9CKDlRYXisl_",
        "colab_type": "text"
      },
      "source": [
        "# Tet classification for insincere Quora questions\n",
        "(inspired by: https://www.kaggle.com/christofhenkel/how-to-preprocessing-when-using-embeddings)\n",
        "\n",
        "Step 1 - pre-processing; the point here is to not use standard pre=processing steps but instead make sure that there is as much overlap between the word embeddings and your vocabulary."
      ]
    },
    {
      "cell_type": "code",
      "metadata": {
        "id": "cJexyWvh02go",
        "colab_type": "code",
        "colab": {}
      },
      "source": [
        "###imports\n",
        "import pandas as pd\n",
        "from tqdm import tqdm\n",
        "tqdm.pandas()"
      ],
      "execution_count": 0,
      "outputs": []
    },
    {
      "cell_type": "code",
      "metadata": {
        "id": "6RirSOJanRsa",
        "colab_type": "code",
        "colab": {
          "base_uri": "https://localhost:8080/",
          "height": 54
        },
        "outputId": "c84e8408-f599-4c01-965b-0159e5cb178a"
      },
      "source": [
        "###mount drive\n",
        "from google.colab import drive\n",
        "import os\n",
        "drive.mount('/content/gdrive')\n",
        "\n",
        "###change directory\n",
        "os.chdir('/content/gdrive/My Drive/Colab Notebooks/quora')\n",
        "\n",
        "\n"
      ],
      "execution_count": 33,
      "outputs": [
        {
          "output_type": "stream",
          "text": [
            "Drive already mounted at /content/gdrive; to attempt to forcibly remount, call drive.mount(\"/content/gdrive\", force_remount=True).\n"
          ],
          "name": "stdout"
        }
      ]
    },
    {
      "cell_type": "code",
      "metadata": {
        "id": "RqVpu6Bjjd9C",
        "colab_type": "code",
        "colab": {
          "base_uri": "https://localhost:8080/",
          "height": 358
        },
        "outputId": "15d54a00-42ea-4107-81a4-93d50b5c4aec"
      },
      "source": [
        "###Data set explore\n",
        "train = pd.read_csv(\"train.csv\")\n",
        "test = pd.read_csv(\"test.csv\")\n",
        "train.iloc[0:10]"
      ],
      "execution_count": 34,
      "outputs": [
        {
          "output_type": "execute_result",
          "data": {
            "text/html": [
              "<div>\n",
              "<style scoped>\n",
              "    .dataframe tbody tr th:only-of-type {\n",
              "        vertical-align: middle;\n",
              "    }\n",
              "\n",
              "    .dataframe tbody tr th {\n",
              "        vertical-align: top;\n",
              "    }\n",
              "\n",
              "    .dataframe thead th {\n",
              "        text-align: right;\n",
              "    }\n",
              "</style>\n",
              "<table border=\"1\" class=\"dataframe\">\n",
              "  <thead>\n",
              "    <tr style=\"text-align: right;\">\n",
              "      <th></th>\n",
              "      <th>qid</th>\n",
              "      <th>question_text</th>\n",
              "      <th>target</th>\n",
              "    </tr>\n",
              "  </thead>\n",
              "  <tbody>\n",
              "    <tr>\n",
              "      <th>0</th>\n",
              "      <td>00002165364db923c7e6</td>\n",
              "      <td>How did Quebec nationalists see their province...</td>\n",
              "      <td>0</td>\n",
              "    </tr>\n",
              "    <tr>\n",
              "      <th>1</th>\n",
              "      <td>000032939017120e6e44</td>\n",
              "      <td>Do you have an adopted dog, how would you enco...</td>\n",
              "      <td>0</td>\n",
              "    </tr>\n",
              "    <tr>\n",
              "      <th>2</th>\n",
              "      <td>0000412ca6e4628ce2cf</td>\n",
              "      <td>Why does velocity affect time? Does velocity a...</td>\n",
              "      <td>0</td>\n",
              "    </tr>\n",
              "    <tr>\n",
              "      <th>3</th>\n",
              "      <td>000042bf85aa498cd78e</td>\n",
              "      <td>How did Otto von Guericke used the Magdeburg h...</td>\n",
              "      <td>0</td>\n",
              "    </tr>\n",
              "    <tr>\n",
              "      <th>4</th>\n",
              "      <td>0000455dfa3e01eae3af</td>\n",
              "      <td>Can I convert montra helicon D to a mountain b...</td>\n",
              "      <td>0</td>\n",
              "    </tr>\n",
              "    <tr>\n",
              "      <th>5</th>\n",
              "      <td>00004f9a462a357c33be</td>\n",
              "      <td>Is Gaza slowly becoming Auschwitz, Dachau or T...</td>\n",
              "      <td>0</td>\n",
              "    </tr>\n",
              "    <tr>\n",
              "      <th>6</th>\n",
              "      <td>00005059a06ee19e11ad</td>\n",
              "      <td>Why does Quora automatically ban conservative ...</td>\n",
              "      <td>0</td>\n",
              "    </tr>\n",
              "    <tr>\n",
              "      <th>7</th>\n",
              "      <td>0000559f875832745e2e</td>\n",
              "      <td>Is it crazy if I wash or wipe my groceries off...</td>\n",
              "      <td>0</td>\n",
              "    </tr>\n",
              "    <tr>\n",
              "      <th>8</th>\n",
              "      <td>00005bd3426b2d0c8305</td>\n",
              "      <td>Is there such a thing as dressing moderately, ...</td>\n",
              "      <td>0</td>\n",
              "    </tr>\n",
              "    <tr>\n",
              "      <th>9</th>\n",
              "      <td>00006e6928c5df60eacb</td>\n",
              "      <td>Is it just me or have you ever been in this ph...</td>\n",
              "      <td>0</td>\n",
              "    </tr>\n",
              "  </tbody>\n",
              "</table>\n",
              "</div>"
            ],
            "text/plain": [
              "                    qid  ... target\n",
              "0  00002165364db923c7e6  ...      0\n",
              "1  000032939017120e6e44  ...      0\n",
              "2  0000412ca6e4628ce2cf  ...      0\n",
              "3  000042bf85aa498cd78e  ...      0\n",
              "4  0000455dfa3e01eae3af  ...      0\n",
              "5  00004f9a462a357c33be  ...      0\n",
              "6  00005059a06ee19e11ad  ...      0\n",
              "7  0000559f875832745e2e  ...      0\n",
              "8  00005bd3426b2d0c8305  ...      0\n",
              "9  00006e6928c5df60eacb  ...      0\n",
              "\n",
              "[10 rows x 3 columns]"
            ]
          },
          "metadata": {
            "tags": []
          },
          "execution_count": 34
        }
      ]
    },
    {
      "cell_type": "markdown",
      "metadata": {
        "id": "jd2YzbBLuBY0",
        "colab_type": "text"
      },
      "source": [
        "The below function builds the training vocabulary dictionary, going through all the sentences and counts the occurances of the contained words."
      ]
    },
    {
      "cell_type": "code",
      "metadata": {
        "id": "1HLMv2p9oLDi",
        "colab_type": "code",
        "colab": {}
      },
      "source": [
        "###build vocab dictionary function\n",
        "def build_vocab(sentences, verbose =  True):\n",
        "    \"\"\"\n",
        "    :param sentences: list of list of words\n",
        "    :return: dictionary of words and their count\n",
        "    \"\"\"\n",
        "    vocab = {}\n",
        "    for sentence in tqdm(sentences, disable = (not verbose)):\n",
        "        for word in sentence:\n",
        "            try:\n",
        "                vocab[word] += 1\n",
        "            except KeyError:\n",
        "                vocab[word] = 1\n",
        "    return vocab"
      ],
      "execution_count": 0,
      "outputs": []
    },
    {
      "cell_type": "code",
      "metadata": {
        "id": "82oxs333oOgm",
        "colab_type": "code",
        "colab": {
          "base_uri": "https://localhost:8080/",
          "height": 70
        },
        "outputId": "d337ae65-4a86-46de-e68e-97eb5322c04a"
      },
      "source": [
        "###build vocab\n",
        "#split sentences into separate words\n",
        "sentences = train[\"question_text\"].progress_apply(lambda x: x.split()).values\n",
        "#run vocab function\n",
        "vocab = build_vocab(sentences)\n",
        "#print first 5 elements of dictionary\n",
        "print({k: vocab[k] for k in list(vocab)[:5]})"
      ],
      "execution_count": 37,
      "outputs": [
        {
          "output_type": "stream",
          "text": [
            "100%|██████████| 1306122/1306122 [00:04<00:00, 296643.56it/s]\n",
            "100%|██████████| 1306122/1306122 [00:05<00:00, 226706.76it/s]\n"
          ],
          "name": "stderr"
        },
        {
          "output_type": "stream",
          "text": [
            "{'How': 261930, 'did': 33489, 'Quebec': 97, 'nationalists': 91, 'see': 9003}\n"
          ],
          "name": "stdout"
        }
      ]
    },
    {
      "cell_type": "code",
      "metadata": {
        "id": "jDTwYWDvoQwk",
        "colab_type": "code",
        "colab": {
          "base_uri": "https://localhost:8080/",
          "height": 72
        },
        "outputId": "cdf1f39d-1cff-4b18-bc14-6c0d2432f845"
      },
      "source": [
        "###import google news embeddings\n",
        "from gensim.models import KeyedVectors\n",
        "#change directory\n",
        "os.chdir('/content/gdrive/My Drive/Colab Notebooks/album_reviews')\n",
        "news_path = 'GoogleNews-vectors-negative300.bin.gz'\n",
        "#\n",
        "embeddings_index = KeyedVectors.load_word2vec_format(news_path, binary=True)"
      ],
      "execution_count": 27,
      "outputs": [
        {
          "output_type": "stream",
          "text": [
            "/usr/local/lib/python3.6/dist-packages/smart_open/smart_open_lib.py:398: UserWarning: This function is deprecated, use smart_open.open instead. See the migration notes for details: https://github.com/RaRe-Technologies/smart_open/blob/master/README.rst#migrating-to-the-new-open-function\n",
            "  'See the migration notes for details: %s' % _MIGRATION_NOTES_URL\n"
          ],
          "name": "stderr"
        }
      ]
    },
    {
      "cell_type": "code",
      "metadata": {
        "id": "6mca9EVnoZN5",
        "colab_type": "code",
        "colab": {}
      },
      "source": [
        "###a function to check the intersection between bocab and embeddings\n",
        "import operator \n",
        "\n",
        "def check_coverage(vocab,embeddings_index):\n",
        "    a = {}\n",
        "    oov = {}\n",
        "    k = 0\n",
        "    i = 0\n",
        "    for word in tqdm(vocab):\n",
        "        #try to assign word from embedding to new dict with index value\n",
        "        #add number of found words to k\n",
        "        try:\n",
        "            a[word] = embeddings_index[word]\n",
        "            k += vocab[word]\n",
        "        #otherwise add word count value to oov dict word key\n",
        "        #add number of unfound words to i\n",
        "        except:\n",
        "            oov[word] = vocab[word]\n",
        "            i += vocab[word]\n",
        "            pass\n",
        "\n",
        "    print('Found embeddings for  {:.2%} of all text'.format(k / (k + i)))\n",
        "    sorted_x = sorted(oov.items(), key=operator.itemgetter(1))[::-1]\n",
        "\n",
        "    return sorted_x"
      ],
      "execution_count": 0,
      "outputs": []
    },
    {
      "cell_type": "code",
      "metadata": {
        "id": "YFjw9W3coq_E",
        "colab_type": "code",
        "colab": {
          "base_uri": "https://localhost:8080/",
          "height": 52
        },
        "outputId": "1b898944-27c0-4950-c6ae-b9d286736f4a"
      },
      "source": [
        "###run vocab function\n",
        "oov = check_coverage(vocab,embeddings_index)"
      ],
      "execution_count": 39,
      "outputs": [
        {
          "output_type": "stream",
          "text": [
            "100%|██████████| 508823/508823 [00:01<00:00, 320485.92it/s]\n"
          ],
          "name": "stderr"
        },
        {
          "output_type": "stream",
          "text": [
            "Found embeddings for  78.75% of all text\n"
          ],
          "name": "stdout"
        }
      ]
    },
    {
      "cell_type": "code",
      "metadata": {
        "id": "7zY4K5sLIi-C",
        "colab_type": "code",
        "colab": {
          "base_uri": "https://localhost:8080/",
          "height": 193
        },
        "outputId": "5334f42f-25a3-4291-c1a8-118a6b5c42d8"
      },
      "source": [
        "oov[:10]"
      ],
      "execution_count": 40,
      "outputs": [
        {
          "output_type": "execute_result",
          "data": {
            "text/plain": [
              "[('to', 403183),\n",
              " ('a', 402682),\n",
              " ('of', 330825),\n",
              " ('and', 251973),\n",
              " ('India?', 16384),\n",
              " ('it?', 12900),\n",
              " ('do?', 8753),\n",
              " ('life?', 7753),\n",
              " ('you?', 6295),\n",
              " ('me?', 6202)]"
            ]
          },
          "metadata": {
            "tags": []
          },
          "execution_count": 40
        }
      ]
    },
    {
      "cell_type": "markdown",
      "metadata": {
        "id": "NOkAiF6KIeQ_",
        "colab_type": "text"
      },
      "source": [
        "## Pre-processing steps\n",
        "1.   Remove punctuation not in embeddings\n",
        "2.   Change numbers of 2 or more digits to hashes\n",
        "\n"
      ]
    },
    {
      "cell_type": "code",
      "metadata": {
        "id": "Qxjp2S4fDZhf",
        "colab_type": "code",
        "colab": {}
      },
      "source": [
        "def clean_text(x):\n",
        "\n",
        "    x = str(x)\n",
        "    for punct in \"/-'\":\n",
        "        x = x.replace(punct, ' ')\n",
        "    for punct in '&':\n",
        "        x = x.replace(punct, f' {punct} ')\n",
        "    for punct in '?!.,\"#$%\\'()*+-/:;<=>@[\\\\]^_`{|}~' + '“”’':\n",
        "        x = x.replace(punct, '')\n",
        "    return x"
      ],
      "execution_count": 0,
      "outputs": []
    },
    {
      "cell_type": "code",
      "metadata": {
        "id": "TUKtJNw3K4dA",
        "colab_type": "code",
        "colab": {}
      },
      "source": [
        "train[\"question_text\"] = train[\"question_text\"].progress_apply(lambda x: clean_text(x))\n",
        "sentences = train[\"question_text\"].apply(lambda x: x.split())\n",
        "vocab = build_vocab(sentences)"
      ],
      "execution_count": 0,
      "outputs": []
    },
    {
      "cell_type": "code",
      "metadata": {
        "id": "c5lXbJydLpVS",
        "colab_type": "code",
        "colab": {
          "base_uri": "https://localhost:8080/",
          "height": 210
        },
        "outputId": "35764739-192d-4ff3-82f1-5fc8f1e1d6a0"
      },
      "source": [
        "oov = check_coverage(vocab,embeddings_index)"
      ],
      "execution_count": 44,
      "outputs": [
        {
          "output_type": "stream",
          "text": [
            "\n",
            "  0%|          | 0/253623 [00:00<?, ?it/s]\u001b[A\n",
            "  8%|▊         | 21354/253623 [00:00<00:01, 213537.66it/s]\u001b[A\n",
            " 20%|█▉        | 49849/253623 [00:00<00:00, 230897.39it/s]\u001b[A\n",
            " 31%|███       | 77590/253623 [00:00<00:00, 243126.47it/s]\u001b[A\n",
            " 42%|████▏     | 106482/253623 [00:00<00:00, 255262.98it/s]\u001b[A\n",
            " 53%|█████▎    | 134374/253623 [00:00<00:00, 261926.73it/s]\u001b[A\n",
            " 65%|██████▍   | 164699/253623 [00:00<00:00, 273089.81it/s]\u001b[A\n",
            " 77%|███████▋  | 194760/253623 [00:00<00:00, 280800.42it/s]\u001b[A\n",
            " 89%|████████▊ | 224488/253623 [00:00<00:00, 285546.34it/s]\u001b[A\n",
            "100%|██████████| 253623/253623 [00:00<00:00, 282949.00it/s]\u001b[A"
          ],
          "name": "stderr"
        },
        {
          "output_type": "stream",
          "text": [
            "Found embeddings for  89.99% of all text\n"
          ],
          "name": "stdout"
        }
      ]
    },
    {
      "cell_type": "code",
      "metadata": {
        "id": "GoBeAHUFLxmi",
        "colab_type": "code",
        "colab": {
          "base_uri": "https://localhost:8080/",
          "height": 193
        },
        "outputId": "82449a96-7814-4fc3-8756-b5902a917dc0"
      },
      "source": [
        "oov[:10]"
      ],
      "execution_count": 45,
      "outputs": [
        {
          "output_type": "execute_result",
          "data": {
            "text/plain": [
              "[('to', 406298),\n",
              " ('a', 403852),\n",
              " ('of', 332964),\n",
              " ('and', 254081),\n",
              " ('2017', 8781),\n",
              " ('2018', 7373),\n",
              " ('10', 6642),\n",
              " ('12', 3694),\n",
              " ('20', 2942),\n",
              " ('100', 2883)]"
            ]
          },
          "metadata": {
            "tags": []
          },
          "execution_count": 45
        }
      ]
    },
    {
      "cell_type": "code",
      "metadata": {
        "id": "zthY1K-bL3rz",
        "colab_type": "code",
        "colab": {}
      },
      "source": [
        "import re\n",
        "\n",
        "def clean_numbers(x):\n",
        "\n",
        "    x = re.sub('[0-9]{5,}', '#####', x)\n",
        "    x = re.sub('[0-9]{4}', '####', x)\n",
        "    x = re.sub('[0-9]{3}', '###', x)\n",
        "    x = re.sub('[0-9]{2}', '##', x)\n",
        "    return x"
      ],
      "execution_count": 0,
      "outputs": []
    },
    {
      "cell_type": "code",
      "metadata": {
        "id": "tLtcADWSMRPV",
        "colab_type": "code",
        "colab": {
          "base_uri": "https://localhost:8080/",
          "height": 1000
        },
        "outputId": "aedc6236-6579-461c-d5ed-6432d9598ee6"
      },
      "source": [
        "train[\"question_text\"] = train[\"question_text\"].progress_apply(lambda x: clean_numbers(x))\n",
        "sentences = train[\"question_text\"].progress_apply(lambda x: x.split())\n",
        "vocab = build_vocab(sentences)"
      ],
      "execution_count": 48,
      "outputs": [
        {
          "output_type": "stream",
          "text": [
            "\n",
            "  0%|          | 0/1306122 [00:00<?, ?it/s]\u001b[A\n",
            "  0%|          | 4588/1306122 [00:00<00:28, 45877.75it/s]\u001b[A\n",
            "  1%|          | 12946/1306122 [00:00<00:24, 53057.16it/s]\u001b[A\n",
            "  2%|▏         | 21802/1306122 [00:00<00:21, 60310.49it/s]\u001b[A\n",
            "  2%|▏         | 30590/1306122 [00:00<00:19, 66575.45it/s]\u001b[A\n",
            "  3%|▎         | 39406/1306122 [00:00<00:17, 71852.54it/s]\u001b[A\n",
            "  4%|▎         | 48537/1306122 [00:00<00:16, 76756.67it/s]\u001b[A\n",
            "  4%|▍         | 56900/1306122 [00:00<00:15, 78694.68it/s]\u001b[A\n",
            "  5%|▌         | 65445/1306122 [00:00<00:15, 80605.72it/s]\u001b[A\n",
            "  6%|▌         | 74650/1306122 [00:00<00:14, 83728.00it/s]\u001b[A\n",
            "  6%|▋         | 83407/1306122 [00:01<00:14, 84843.52it/s]\u001b[A\n",
            "  7%|▋         | 92629/1306122 [00:01<00:13, 86928.30it/s]\u001b[A\n",
            "  8%|▊         | 101873/1306122 [00:01<00:13, 88510.96it/s]\u001b[A\n",
            "  9%|▊         | 111187/1306122 [00:01<00:13, 89848.73it/s]\u001b[A\n",
            "  9%|▉         | 120437/1306122 [00:01<00:13, 90627.47it/s]\u001b[A\n",
            " 10%|▉         | 129519/1306122 [00:01<00:13, 90281.47it/s]\u001b[A\n",
            " 11%|█         | 138613/1306122 [00:01<00:12, 90477.60it/s]\u001b[A\n",
            " 11%|█▏        | 147671/1306122 [00:01<00:13, 88263.15it/s]\u001b[A\n",
            " 12%|█▏        | 156792/1306122 [00:01<00:12, 89124.80it/s]\u001b[A\n",
            " 13%|█▎        | 165955/1306122 [00:01<00:12, 89860.37it/s]\u001b[A\n",
            " 13%|█▎        | 175336/1306122 [00:02<00:12, 91008.53it/s]\u001b[A\n",
            " 14%|█▍        | 184644/1306122 [00:02<00:12, 91617.80it/s]\u001b[A\n",
            " 15%|█▍        | 193816/1306122 [00:02<00:12, 91151.20it/s]\u001b[A\n",
            " 16%|█▌        | 202939/1306122 [00:02<00:12, 89829.80it/s]\u001b[A\n",
            " 16%|█▌        | 212049/1306122 [00:02<00:12, 90206.51it/s]\u001b[A\n",
            " 17%|█▋        | 221077/1306122 [00:02<00:12, 88170.25it/s]\u001b[A\n",
            " 18%|█▊        | 229910/1306122 [00:02<00:12, 88197.79it/s]\u001b[A\n",
            " 18%|█▊        | 238741/1306122 [00:02<00:12, 87013.01it/s]\u001b[A\n",
            " 19%|█▉        | 247841/1306122 [00:02<00:12, 88170.43it/s]\u001b[A\n",
            " 20%|█▉        | 257080/1306122 [00:02<00:11, 89392.45it/s]\u001b[A\n",
            " 20%|██        | 266032/1306122 [00:03<00:11, 89274.03it/s]\u001b[A\n",
            " 21%|██        | 275179/1306122 [00:03<00:11, 89921.51it/s]\u001b[A\n",
            " 22%|██▏       | 284473/1306122 [00:03<00:11, 90805.91it/s]\u001b[A\n",
            " 22%|██▏       | 293561/1306122 [00:03<00:11, 90246.51it/s]\u001b[A\n",
            " 23%|██▎       | 302769/1306122 [00:03<00:11, 90786.82it/s]\u001b[A\n",
            " 24%|██▍       | 311950/1306122 [00:03<00:10, 91089.91it/s]\u001b[A\n",
            " 25%|██▍       | 321063/1306122 [00:03<00:11, 89469.66it/s]\u001b[A\n",
            " 25%|██▌       | 330019/1306122 [00:03<00:11, 88264.43it/s]\u001b[A\n",
            " 26%|██▌       | 338999/1306122 [00:03<00:10, 88719.27it/s]\u001b[A\n",
            " 27%|██▋       | 348330/1306122 [00:03<00:10, 90047.56it/s]\u001b[A\n",
            " 27%|██▋       | 357633/1306122 [00:04<00:10, 90921.66it/s]\u001b[A\n",
            " 28%|██▊       | 366944/1306122 [00:04<00:10, 91565.06it/s]\u001b[A\n",
            " 29%|██▉       | 376236/1306122 [00:04<00:10, 91965.97it/s]\u001b[A\n",
            " 30%|██▉       | 385439/1306122 [00:04<00:10, 91461.32it/s]\u001b[A\n",
            " 30%|███       | 394673/1306122 [00:04<00:09, 91721.69it/s]\u001b[A\n",
            " 31%|███       | 403849/1306122 [00:04<00:09, 90894.72it/s]\u001b[A\n",
            " 32%|███▏      | 413104/1306122 [00:04<00:09, 91382.30it/s]\u001b[A\n",
            " 32%|███▏      | 422246/1306122 [00:04<00:09, 89542.41it/s]\u001b[A\n",
            " 33%|███▎      | 431245/1306122 [00:04<00:09, 89673.24it/s]\u001b[A\n",
            " 34%|███▎      | 440493/1306122 [00:04<00:09, 90494.77it/s]\u001b[A\n",
            " 34%|███▍      | 449854/1306122 [00:05<00:09, 91407.31it/s]\u001b[A\n",
            " 35%|███▌      | 459002/1306122 [00:05<00:09, 86925.28it/s]\u001b[A\n",
            " 36%|███▌      | 468152/1306122 [00:05<00:09, 88247.92it/s]\u001b[A\n",
            " 37%|███▋      | 477244/1306122 [00:05<00:09, 89031.19it/s]\u001b[A\n",
            " 37%|███▋      | 486586/1306122 [00:05<00:09, 90303.88it/s]\u001b[A\n",
            " 38%|███▊      | 495861/1306122 [00:05<00:08, 91020.89it/s]\u001b[A\n",
            " 39%|███▊      | 505152/1306122 [00:05<00:08, 91577.53it/s]\u001b[A\n",
            " 39%|███▉      | 514324/1306122 [00:05<00:08, 89546.44it/s]\u001b[A\n",
            " 40%|████      | 523299/1306122 [00:05<00:08, 87593.87it/s]\u001b[A\n",
            " 41%|████      | 532526/1306122 [00:05<00:08, 88943.99it/s]\u001b[A\n",
            " 41%|████▏     | 541490/1306122 [00:06<00:08, 89150.48it/s]\u001b[A\n",
            " 42%|████▏     | 550785/1306122 [00:06<00:08, 90254.77it/s]\u001b[A\n",
            " 43%|████▎     | 560233/1306122 [00:06<00:08, 91481.95it/s]\u001b[A\n",
            " 44%|████▎     | 569459/1306122 [00:06<00:08, 91713.23it/s]\u001b[A\n",
            " 44%|████▍     | 578841/1306122 [00:06<00:07, 92334.76it/s]\u001b[A\n",
            " 45%|████▌     | 588083/1306122 [00:06<00:07, 92313.36it/s]\u001b[A\n",
            " 46%|████▌     | 597353/1306122 [00:06<00:07, 92426.73it/s]\u001b[A\n",
            " 46%|████▋     | 606600/1306122 [00:06<00:07, 90576.85it/s]\u001b[A\n",
            " 47%|████▋     | 615669/1306122 [00:06<00:07, 90205.32it/s]\u001b[A\n",
            " 48%|████▊     | 624979/1306122 [00:06<00:07, 91053.14it/s]\u001b[A\n",
            " 49%|████▊     | 634228/1306122 [00:07<00:07, 91479.39it/s]\u001b[A\n",
            " 49%|████▉     | 643590/1306122 [00:07<00:07, 92109.95it/s]\u001b[A\n",
            " 50%|████▉     | 652842/1306122 [00:07<00:07, 92230.44it/s]\u001b[A\n",
            " 51%|█████     | 662069/1306122 [00:07<00:07, 89181.38it/s]\u001b[A\n",
            " 51%|█████▏    | 671012/1306122 [00:07<00:07, 88865.90it/s]\u001b[A\n",
            " 52%|█████▏    | 679916/1306122 [00:07<00:07, 88882.72it/s]\u001b[A\n",
            " 53%|█████▎    | 689176/1306122 [00:07<00:06, 89964.40it/s]\u001b[A\n",
            " 53%|█████▎    | 698185/1306122 [00:07<00:06, 88253.97it/s]\u001b[A\n",
            " 54%|█████▍    | 707411/1306122 [00:07<00:06, 89418.05it/s]\u001b[A\n",
            " 55%|█████▍    | 716666/1306122 [00:08<00:06, 90334.23it/s]\u001b[A\n",
            " 56%|█████▌    | 725712/1306122 [00:08<00:06, 89064.43it/s]\u001b[A\n",
            " 56%|█████▋    | 734828/1306122 [00:08<00:06, 89682.37it/s]\u001b[A\n",
            " 57%|█████▋    | 743807/1306122 [00:08<00:06, 89435.73it/s]\u001b[A\n",
            " 58%|█████▊    | 752892/1306122 [00:08<00:06, 89853.61it/s]\u001b[A\n",
            " 58%|█████▊    | 761883/1306122 [00:08<00:06, 89295.40it/s]\u001b[A\n",
            " 59%|█████▉    | 770818/1306122 [00:08<00:06, 84627.43it/s]\u001b[A\n",
            " 60%|█████▉    | 779482/1306122 [00:08<00:06, 85219.84it/s]\u001b[A\n",
            " 60%|██████    | 788043/1306122 [00:08<00:06, 84780.80it/s]\u001b[A\n",
            " 61%|██████    | 796720/1306122 [00:08<00:05, 85366.08it/s]\u001b[A\n",
            " 62%|██████▏   | 805562/1306122 [00:09<00:05, 86259.41it/s]\u001b[A\n",
            " 62%|██████▏   | 814334/1306122 [00:09<00:05, 86690.52it/s]\u001b[A\n",
            " 63%|██████▎   | 823447/1306122 [00:09<00:05, 87974.60it/s]\u001b[A\n",
            " 64%|██████▎   | 832258/1306122 [00:09<00:05, 87409.22it/s]\u001b[A\n",
            " 64%|██████▍   | 841474/1306122 [00:09<00:05, 88781.08it/s]\u001b[A\n",
            " 65%|██████▌   | 850365/1306122 [00:09<00:05, 88364.45it/s]\u001b[A\n",
            " 66%|██████▌   | 859546/1306122 [00:09<00:04, 89368.37it/s]\u001b[A\n",
            " 66%|██████▋   | 868492/1306122 [00:09<00:04, 89127.87it/s]\u001b[A\n",
            " 67%|██████▋   | 877412/1306122 [00:09<00:04, 87479.46it/s]\u001b[A\n",
            " 68%|██████▊   | 886312/1306122 [00:09<00:04, 87912.59it/s]\u001b[A\n",
            " 69%|██████▊   | 895447/1306122 [00:10<00:04, 88916.18it/s]\u001b[A\n",
            " 69%|██████▉   | 904431/1306122 [00:10<00:04, 89189.32it/s]\u001b[A\n",
            " 70%|██████▉   | 913373/1306122 [00:10<00:04, 89255.88it/s]\u001b[A\n",
            " 71%|███████   | 922303/1306122 [00:10<00:04, 88441.31it/s]\u001b[A\n",
            " 71%|███████▏  | 931237/1306122 [00:10<00:04, 88706.83it/s]\u001b[A\n",
            " 72%|███████▏  | 940143/1306122 [00:10<00:04, 88811.12it/s]\u001b[A\n",
            " 73%|███████▎  | 949396/1306122 [00:10<00:03, 89893.73it/s]\u001b[A\n",
            " 73%|███████▎  | 958391/1306122 [00:10<00:03, 87438.29it/s]\u001b[A\n",
            " 74%|███████▍  | 967153/1306122 [00:10<00:03, 86907.30it/s]\u001b[A\n",
            " 75%|███████▍  | 975913/1306122 [00:10<00:03, 87113.67it/s]\u001b[A\n",
            " 75%|███████▌  | 984975/1306122 [00:11<00:03, 88134.74it/s]\u001b[A\n",
            " 76%|███████▌  | 994228/1306122 [00:11<00:03, 89405.90it/s]\u001b[A\n",
            " 77%|███████▋  | 1003180/1306122 [00:11<00:03, 89279.41it/s]\u001b[A\n",
            " 78%|███████▊  | 1012413/1306122 [00:11<00:03, 90172.17it/s]\u001b[A\n",
            " 78%|███████▊  | 1021438/1306122 [00:11<00:03, 89934.84it/s]\u001b[A\n",
            " 79%|███████▉  | 1030718/1306122 [00:11<00:03, 90774.65it/s]\u001b[A\n",
            " 80%|███████▉  | 1039802/1306122 [00:11<00:02, 89190.72it/s]\u001b[A\n",
            " 80%|████████  | 1048851/1306122 [00:11<00:02, 89573.87it/s]\u001b[A\n",
            " 81%|████████  | 1057816/1306122 [00:11<00:02, 87488.70it/s]\u001b[A\n",
            " 82%|████████▏ | 1066581/1306122 [00:11<00:02, 85582.76it/s]\u001b[A\n",
            " 82%|████████▏ | 1075922/1306122 [00:12<00:02, 87789.02it/s]\u001b[A\n",
            " 83%|████████▎ | 1084730/1306122 [00:12<00:02, 86393.14it/s]\u001b[A\n",
            " 84%|████████▎ | 1093811/1306122 [00:12<00:02, 87671.84it/s]\u001b[A\n",
            " 84%|████████▍ | 1102974/1306122 [00:12<00:02, 88821.33it/s]\u001b[A\n",
            " 85%|████████▌ | 1112199/1306122 [00:12<00:02, 89821.39it/s]\u001b[A\n",
            " 86%|████████▌ | 1121198/1306122 [00:12<00:02, 89107.99it/s]\u001b[A\n",
            " 87%|████████▋ | 1130574/1306122 [00:12<00:01, 90453.92it/s]\u001b[A\n",
            " 87%|████████▋ | 1139634/1306122 [00:12<00:01, 90089.33it/s]\u001b[A\n",
            " 88%|████████▊ | 1148913/1306122 [00:12<00:01, 90879.59it/s]\u001b[A\n",
            " 89%|████████▊ | 1158010/1306122 [00:13<00:01, 86441.47it/s]\u001b[A\n",
            " 89%|████████▉ | 1166884/1306122 [00:13<00:01, 87117.05it/s]\u001b[A\n",
            " 90%|█████████ | 1175806/1306122 [00:13<00:01, 87735.75it/s]\u001b[A\n",
            " 91%|█████████ | 1184612/1306122 [00:13<00:01, 87832.42it/s]\u001b[A\n",
            " 91%|█████████▏| 1193644/1306122 [00:13<00:01, 88563.65it/s]\u001b[A\n",
            " 92%|█████████▏| 1202516/1306122 [00:13<00:01, 88049.21it/s]\u001b[A\n",
            " 93%|█████████▎| 1211332/1306122 [00:13<00:01, 87837.88it/s]\u001b[A\n",
            " 93%|█████████▎| 1220393/1306122 [00:13<00:00, 88650.76it/s]\u001b[A\n",
            " 94%|█████████▍| 1229266/1306122 [00:13<00:00, 87782.52it/s]\u001b[A\n",
            " 95%|█████████▍| 1238468/1306122 [00:13<00:00, 89010.82it/s]\u001b[A\n",
            " 96%|█████████▌| 1247379/1306122 [00:14<00:00, 87102.49it/s]\u001b[A\n",
            " 96%|█████████▌| 1256381/1306122 [00:14<00:00, 87957.53it/s]\u001b[A\n",
            " 97%|█████████▋| 1265541/1306122 [00:14<00:00, 89019.39it/s]\u001b[A\n",
            " 98%|█████████▊| 1274573/1306122 [00:14<00:00, 89404.76it/s]\u001b[A\n",
            " 98%|█████████▊| 1283523/1306122 [00:14<00:00, 87559.54it/s]\u001b[A\n",
            " 99%|█████████▉| 1292431/1306122 [00:14<00:00, 88008.48it/s]\u001b[A\n",
            "100%|█████████▉| 1301486/1306122 [00:14<00:00, 88753.55it/s]\u001b[A\n",
            "100%|██████████| 1306122/1306122 [00:14<00:00, 88353.98it/s]\u001b[A\n",
            "  0%|          | 0/1306122 [00:00<?, ?it/s]\u001b[A\n",
            "  2%|▏         | 21031/1306122 [00:00<00:06, 210308.19it/s]\u001b[A\n",
            "  4%|▍         | 56326/1306122 [00:00<00:05, 239323.73it/s]\u001b[A\n",
            "  7%|▋         | 91387/1306122 [00:00<00:04, 264215.58it/s]\u001b[A\n",
            " 10%|▉         | 127407/1306122 [00:00<00:04, 287172.34it/s]\u001b[A\n",
            " 13%|█▎        | 165065/1306122 [00:00<00:03, 309194.42it/s]\u001b[A\n",
            " 15%|█▌        | 200936/1306122 [00:00<00:03, 322551.40it/s]\u001b[A\n",
            " 18%|█▊        | 240485/1306122 [00:00<00:03, 341440.22it/s]\u001b[A\n",
            " 21%|██        | 276450/1306122 [00:00<00:02, 345967.14it/s]\u001b[A\n",
            " 24%|██▍       | 316074/1306122 [00:00<00:02, 359655.47it/s]\u001b[A\n",
            " 27%|██▋       | 353858/1306122 [00:01<00:02, 364922.43it/s]\u001b[A\n",
            " 30%|██▉       | 390313/1306122 [00:02<00:11, 80903.63it/s] \u001b[A\n",
            " 33%|███▎      | 427572/1306122 [00:02<00:08, 105736.52it/s]\u001b[A\n",
            " 36%|███▌      | 465281/1306122 [00:02<00:06, 134847.12it/s]\u001b[A\n",
            " 39%|███▊      | 503987/1306122 [00:02<00:04, 167612.29it/s]\u001b[A\n",
            " 42%|████▏     | 542406/1306122 [00:02<00:03, 201727.41it/s]\u001b[A\n",
            " 44%|████▍     | 580865/1306122 [00:02<00:03, 235289.49it/s]\u001b[A\n",
            " 48%|████▊     | 621260/1306122 [00:02<00:02, 268981.39it/s]\u001b[A\n",
            " 50%|█████     | 659249/1306122 [00:02<00:02, 294798.15it/s]\u001b[A\n",
            " 53%|█████▎    | 698699/1306122 [00:03<00:01, 318982.80it/s]\u001b[A\n",
            " 56%|█████▋    | 737271/1306122 [00:03<00:01, 336443.30it/s]\u001b[A\n",
            " 59%|█████▉    | 775582/1306122 [00:03<00:01, 340538.88it/s]\u001b[A\n",
            " 62%|██████▏   | 814272/1306122 [00:03<00:01, 353233.27it/s]\u001b[A\n",
            " 65%|██████▌   | 852011/1306122 [00:03<00:01, 359563.96it/s]\u001b[A\n",
            " 68%|██████▊   | 890908/1306122 [00:03<00:01, 367907.44it/s]\u001b[A\n",
            " 71%|███████   | 929884/1306122 [00:03<00:01, 374200.85it/s]\u001b[A\n",
            " 74%|███████▍  | 969495/1306122 [00:03<00:00, 380513.61it/s]\u001b[A\n",
            " 77%|███████▋  | 1008948/1306122 [00:03<00:00, 384611.87it/s]\u001b[A\n",
            " 80%|████████  | 1047880/1306122 [00:03<00:00, 373091.75it/s]\u001b[A\n",
            " 83%|████████▎ | 1085594/1306122 [00:04<00:00, 372541.73it/s]\u001b[A\n",
            " 86%|████████▌ | 1124858/1306122 [00:04<00:00, 378348.77it/s]\u001b[A\n",
            " 89%|████████▉ | 1162953/1306122 [00:04<00:00, 379123.35it/s]\u001b[A\n",
            " 92%|█████████▏| 1202348/1306122 [00:04<00:00, 383164.03it/s]\u001b[A\n",
            " 95%|█████████▍| 1240783/1306122 [00:04<00:00, 383363.21it/s]\u001b[A\n",
            " 98%|█████████▊| 1279203/1306122 [00:04<00:00, 377218.51it/s]\u001b[A\n",
            "100%|██████████| 1306122/1306122 [00:04<00:00, 275297.96it/s]\u001b[A\n",
            "  0%|          | 0/1306122 [00:00<?, ?it/s]\u001b[A\n",
            "  2%|▏         | 23558/1306122 [00:00<00:05, 235574.05it/s]\u001b[A\n",
            "  4%|▎         | 48518/1306122 [00:00<00:05, 239608.28it/s]\u001b[A\n",
            "  6%|▌         | 73175/1306122 [00:00<00:05, 241654.05it/s]\u001b[A\n",
            "  8%|▊         | 97993/1306122 [00:00<00:04, 243573.53it/s]\u001b[A\n",
            "  9%|▉         | 123150/1306122 [00:00<00:04, 245917.44it/s]\u001b[A\n",
            " 11%|█▏        | 147983/1306122 [00:00<00:04, 246635.64it/s]\u001b[A\n",
            " 13%|█▎        | 169887/1306122 [00:00<00:04, 232982.30it/s]\u001b[A\n",
            " 15%|█▍        | 191410/1306122 [00:00<00:05, 215352.48it/s]\u001b[A\n",
            " 16%|█▋        | 213394/1306122 [00:00<00:05, 216677.45it/s]\u001b[A\n",
            " 18%|█▊        | 234494/1306122 [00:01<00:04, 214940.73it/s]\u001b[A\n",
            " 20%|█▉        | 256688/1306122 [00:01<00:04, 216991.65it/s]\u001b[A\n",
            " 21%|██▏       | 280532/1306122 [00:01<00:04, 223007.88it/s]\u001b[A\n",
            " 23%|██▎       | 302998/1306122 [00:01<00:04, 223500.07it/s]\u001b[A\n",
            " 25%|██▌       | 326848/1306122 [00:01<00:04, 227795.54it/s]\u001b[A\n",
            " 27%|██▋       | 351975/1306122 [00:01<00:04, 234362.71it/s]\u001b[A\n",
            " 29%|██▉       | 376485/1306122 [00:01<00:03, 237481.73it/s]\u001b[A\n",
            " 31%|███       | 402350/1306122 [00:01<00:03, 243458.00it/s]\u001b[A\n",
            " 33%|███▎      | 426866/1306122 [00:01<00:03, 243965.31it/s]\u001b[A\n",
            " 35%|███▍      | 451293/1306122 [00:01<00:03, 242636.43it/s]\u001b[A\n",
            " 36%|███▋      | 476438/1306122 [00:02<00:03, 245213.46it/s]\u001b[A\n",
            " 38%|███▊      | 500982/1306122 [00:02<00:03, 235193.87it/s]\u001b[A\n",
            " 40%|████      | 524605/1306122 [00:02<00:03, 231481.81it/s]\u001b[A\n",
            " 42%|████▏     | 547839/1306122 [00:02<00:03, 226759.19it/s]\u001b[A\n",
            " 44%|████▍     | 571705/1306122 [00:02<00:03, 230200.60it/s]\u001b[A\n",
            " 46%|████▌     | 595791/1306122 [00:02<00:03, 233296.63it/s]\u001b[A\n",
            " 47%|████▋     | 620244/1306122 [00:02<00:02, 236555.02it/s]\u001b[A\n",
            " 49%|████▉     | 644107/1306122 [00:02<00:02, 237172.27it/s]\u001b[A\n",
            " 51%|█████     | 668435/1306122 [00:02<00:02, 238969.86it/s]\u001b[A\n",
            " 53%|█████▎    | 692803/1306122 [00:02<00:02, 240361.19it/s]\u001b[A\n",
            " 55%|█████▍    | 717977/1306122 [00:03<00:02, 243661.70it/s]\u001b[A\n",
            " 57%|█████▋    | 742370/1306122 [00:03<00:02, 226066.35it/s]\u001b[A\n",
            " 59%|█████▊    | 766946/1306122 [00:03<00:02, 231633.22it/s]\u001b[A\n",
            " 61%|██████    | 792085/1306122 [00:03<00:02, 237224.78it/s]\u001b[A\n",
            " 62%|██████▏   | 815999/1306122 [00:03<00:02, 237191.57it/s]\u001b[A\n",
            " 64%|██████▍   | 840642/1306122 [00:03<00:01, 239889.44it/s]\u001b[A\n",
            " 66%|██████▌   | 864732/1306122 [00:03<00:01, 237963.40it/s]\u001b[A\n",
            " 68%|██████▊   | 888968/1306122 [00:03<00:01, 239264.25it/s]\u001b[A\n",
            " 70%|██████▉   | 912948/1306122 [00:03<00:01, 236247.92it/s]\u001b[A\n",
            " 72%|███████▏  | 937708/1306122 [00:03<00:01, 239542.46it/s]\u001b[A\n",
            " 74%|███████▎  | 962399/1306122 [00:04<00:01, 241705.02it/s]\u001b[A\n",
            " 76%|███████▌  | 986605/1306122 [00:04<00:01, 237745.03it/s]\u001b[A\n",
            " 77%|███████▋  | 1010419/1306122 [00:04<00:01, 236690.59it/s]\u001b[A\n",
            " 79%|███████▉  | 1035760/1306122 [00:04<00:01, 241469.98it/s]\u001b[A\n",
            " 81%|████████  | 1060904/1306122 [00:04<00:01, 244373.98it/s]\u001b[A\n",
            " 83%|████████▎ | 1086138/1306122 [00:04<00:00, 246708.64it/s]\u001b[A\n",
            " 85%|████████▌ | 1112406/1306122 [00:04<00:00, 251291.54it/s]\u001b[A\n",
            " 87%|████████▋ | 1137579/1306122 [00:04<00:00, 251150.10it/s]\u001b[A\n",
            " 89%|████████▉ | 1162725/1306122 [00:04<00:00, 248686.37it/s]\u001b[A\n",
            " 91%|█████████ | 1187621/1306122 [00:05<00:00, 246134.51it/s]\u001b[A\n",
            " 93%|█████████▎| 1212260/1306122 [00:05<00:00, 245829.19it/s]\u001b[A\n",
            " 95%|█████████▍| 1236861/1306122 [00:05<00:00, 234683.98it/s]\u001b[A\n",
            " 97%|█████████▋| 1260586/1306122 [00:05<00:00, 235447.00it/s]\u001b[A\n",
            " 98%|█████████▊| 1284215/1306122 [00:05<00:00, 234310.79it/s]\u001b[A\n",
            "100%|██████████| 1306122/1306122 [00:05<00:00, 237071.08it/s]\u001b[A"
          ],
          "name": "stderr"
        }
      ]
    },
    {
      "cell_type": "code",
      "metadata": {
        "id": "e93erB4ZMWaB",
        "colab_type": "code",
        "colab": {
          "base_uri": "https://localhost:8080/",
          "height": 210
        },
        "outputId": "3d04e45c-40d5-4059-f1ef-f98713ed9d46"
      },
      "source": [
        "oov = check_coverage(vocab,embeddings_index)\n"
      ],
      "execution_count": 49,
      "outputs": [
        {
          "output_type": "stream",
          "text": [
            "\n",
            "  0%|          | 0/242997 [00:00<?, ?it/s]\u001b[A\n",
            " 11%|█         | 26921/242997 [00:00<00:00, 269203.20it/s]\u001b[A\n",
            " 22%|██▏       | 53882/242997 [00:00<00:00, 269324.42it/s]\u001b[A\n",
            " 33%|███▎      | 80995/242997 [00:00<00:00, 269862.29it/s]\u001b[A\n",
            " 45%|████▌     | 110363/242997 [00:00<00:00, 276590.24it/s]\u001b[A\n",
            " 57%|█████▋    | 138248/242997 [00:00<00:00, 277262.42it/s]\u001b[A\n",
            " 69%|██████▉   | 167945/242997 [00:00<00:00, 282890.69it/s]\u001b[A\n",
            " 81%|████████  | 196441/242997 [00:00<00:00, 283506.99it/s]\u001b[A\n",
            " 93%|█████████▎| 225869/242997 [00:00<00:00, 286652.84it/s]\u001b[A\n",
            "100%|██████████| 242997/242997 [00:00<00:00, 280729.18it/s]\u001b[A"
          ],
          "name": "stderr"
        },
        {
          "output_type": "stream",
          "text": [
            "Found embeddings for  90.75% of all text\n"
          ],
          "name": "stdout"
        }
      ]
    }
  ]
}