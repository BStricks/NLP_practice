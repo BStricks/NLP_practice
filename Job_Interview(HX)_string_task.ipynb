{
  "nbformat": 4,
  "nbformat_minor": 0,
  "metadata": {
    "colab": {
      "name": "Job_Interview(HX)_string_task.ipynb",
      "provenance": [],
      "collapsed_sections": [],
      "include_colab_link": true
    },
    "kernelspec": {
      "name": "python3",
      "display_name": "Python 3"
    }
  },
  "cells": [
    {
      "cell_type": "markdown",
      "metadata": {
        "id": "view-in-github",
        "colab_type": "text"
      },
      "source": [
        "<a href=\"https://colab.research.google.com/github/BStricks/NLP_practice/blob/master/Job_Interview(HX)_string_task.ipynb\" target=\"_parent\"><img src=\"https://colab.research.google.com/assets/colab-badge.svg\" alt=\"Open In Colab\"/></a>"
      ]
    },
    {
      "cell_type": "code",
      "metadata": {
        "id": "uNvykkja0qlW",
        "colab_type": "code",
        "colab": {}
      },
      "source": [
        "examples = [\n",
        " \"tableapplechairtablecupboard\",\n",
        " \"tablepton\",\n",
        " \"xtable\",\n",
        " \"foo\",\n",
        "]\n",
        "\n",
        "\n",
        "# Implement the split_words function to return a list of words by splitting the\n",
        "# example strings into words in the dictionary.\n",
        "# There may be multiple possible splits. How might you handle this?"
      ],
      "execution_count": 0,
      "outputs": []
    },
    {
      "cell_type": "code",
      "metadata": {
        "id": "-l8fcNCaKz6l",
        "colab_type": "code",
        "colab": {}
      },
      "source": [
        "dictionary = [\n",
        "    \"a\",\n",
        "    \"it\",\n",
        "    \"leap\",\n",
        "    \"able\",\n",
        "    \"air\",\n",
        "    \"hair\",\n",
        "    \"pre\",\n",
        "    \"table\",\n",
        "    \"tab\",\n",
        "    \"chair\",\n",
        "    \"apple\",\n",
        "    \"app\",\n",
        "    \"cupboard\",\n",
        "    \"cup\",\n",
        "    \"board\",\n",
        "    \"lept\",\n",
        "    \"lepton\",\n",
        "    \"ton\",\n",
        "    \"on\",\n",
        "]"
      ],
      "execution_count": 0,
      "outputs": []
    },
    {
      "cell_type": "code",
      "metadata": {
        "id": "HKIhWzO4ynsj",
        "colab_type": "code",
        "colab": {}
      },
      "source": [
        "def split_words(string):\n",
        "\n",
        "  for i in range(0, len(string)):   \n",
        "\n",
        "    for j in range(i+1,len(string)+1):\n",
        "      \n",
        "      if string[i:j] in dictionary:\n",
        "        \n",
        "        print(string[i:j])\n",
        "    \n"
      ],
      "execution_count": 0,
      "outputs": []
    },
    {
      "cell_type": "code",
      "metadata": {
        "id": "W-L4cpX1PTXN",
        "colab_type": "code",
        "colab": {}
      },
      "source": [
        "for example in examples:\n",
        "  print(example)\n",
        "  print(split_words(example))\n"
      ],
      "execution_count": 0,
      "outputs": []
    }
  ]
}