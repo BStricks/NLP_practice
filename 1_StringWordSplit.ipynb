{
  "nbformat": 4,
  "nbformat_minor": 0,
  "metadata": {
    "colab": {
      "name": "1_StringWordSplit.ipynb",
      "provenance": [],
      "collapsed_sections": [],
      "include_colab_link": true
    },
    "kernelspec": {
      "name": "python3",
      "display_name": "Python 3"
    }
  },
  "cells": [
    {
      "cell_type": "markdown",
      "metadata": {
        "id": "view-in-github",
        "colab_type": "text"
      },
      "source": [
        "<a href=\"https://colab.research.google.com/github/BStricks/named_entity_recognition/blob/master/1_StringWordSplit.ipynb\" target=\"_parent\"><img src=\"https://colab.research.google.com/assets/colab-badge.svg\" alt=\"Open In Colab\"/></a>"
      ]
    },
    {
      "cell_type": "code",
      "metadata": {
        "id": "uNvykkja0qlW",
        "colab_type": "code",
        "colab": {}
      },
      "source": [
        "examples = [\n",
        " \"tableapplechairtablecupboard\",\n",
        " \"tablepton\",\n",
        " \"xtable\",\n",
        " \"foo\",\n",
        "]\n",
        "\n",
        "\n",
        "# Implement the split_words function to return a list of words by splitting the\n",
        "# example strings into words in the dictionary.\n",
        "# There may be multiple possible splits. How might you handle this?"
      ],
      "execution_count": 0,
      "outputs": []
    },
    {
      "cell_type": "code",
      "metadata": {
        "id": "-l8fcNCaKz6l",
        "colab_type": "code",
        "colab": {}
      },
      "source": [
        "dictionary = [\n",
        "    \"a\",\n",
        "    \"it\",\n",
        "    \"leap\",\n",
        "    \"able\",\n",
        "    \"air\",\n",
        "    \"hair\",\n",
        "    \"pre\",\n",
        "    \"table\",\n",
        "    \"tab\",\n",
        "    \"chair\",\n",
        "    \"apple\",\n",
        "    \"app\",\n",
        "    \"cupboard\",\n",
        "    \"cup\",\n",
        "    \"board\",\n",
        "    \"lept\",\n",
        "    \"lepton\",\n",
        "    \"ton\",\n",
        "    \"on\",\n",
        "]"
      ],
      "execution_count": 0,
      "outputs": []
    },
    {
      "cell_type": "code",
      "metadata": {
        "id": "6S4A366a2ruN",
        "colab_type": "code",
        "colab": {}
      },
      "source": [
        "def split_words(string):\n",
        "  counter = 0\n",
        "  for i in range(counter, len(string)):   \n",
        "\n",
        "    for j in range(1,len(string)):\n",
        "      string_search = string[0:j]\n",
        "      if string_search in dictionary:\n",
        "        print(string_search)\n",
        "        counter += 1\n",
        "        new_string = string[len(string_search):]\n",
        "    \n",
        "\n"
      ],
      "execution_count": 0,
      "outputs": []
    },
    {
      "cell_type": "code",
      "metadata": {
        "id": "W-L4cpX1PTXN",
        "colab_type": "code",
        "outputId": "bd8b143c-213e-40b2-eb5f-2a837eb14d2d",
        "colab": {
          "base_uri": "https://localhost:8080/",
          "height": 1000
        }
      },
      "source": [
        "for example in examples:\n",
        "  print(example)\n",
        "  print(split_words(example))\n"
      ],
      "execution_count": 0,
      "outputs": [
        {
          "output_type": "stream",
          "text": [
            "tableapplechairtablecupboard\n",
            "tab\n",
            "table\n",
            "tab\n",
            "table\n",
            "tab\n",
            "table\n",
            "tab\n",
            "table\n",
            "tab\n",
            "table\n",
            "tab\n",
            "table\n",
            "tab\n",
            "table\n",
            "tab\n",
            "table\n",
            "tab\n",
            "table\n",
            "tab\n",
            "table\n",
            "tab\n",
            "table\n",
            "tab\n",
            "table\n",
            "tab\n",
            "table\n",
            "tab\n",
            "table\n",
            "tab\n",
            "table\n",
            "tab\n",
            "table\n",
            "tab\n",
            "table\n",
            "tab\n",
            "table\n",
            "tab\n",
            "table\n",
            "tab\n",
            "table\n",
            "tab\n",
            "table\n",
            "tab\n",
            "table\n",
            "tab\n",
            "table\n",
            "tab\n",
            "table\n",
            "tab\n",
            "table\n",
            "tab\n",
            "table\n",
            "tab\n",
            "table\n",
            "tab\n",
            "table\n",
            "None\n",
            "tablepton\n",
            "tab\n",
            "table\n",
            "tab\n",
            "table\n",
            "tab\n",
            "table\n",
            "tab\n",
            "table\n",
            "tab\n",
            "table\n",
            "tab\n",
            "table\n",
            "tab\n",
            "table\n",
            "tab\n",
            "table\n",
            "tab\n",
            "table\n",
            "None\n",
            "xtable\n",
            "None\n",
            "foo\n",
            "None\n"
          ],
          "name": "stdout"
        }
      ]
    },
    {
      "cell_type": "code",
      "metadata": {
        "id": "IM0GWhe-Yrq9",
        "colab_type": "code",
        "colab": {}
      },
      "source": [
        ""
      ],
      "execution_count": 0,
      "outputs": []
    }
  ]
}